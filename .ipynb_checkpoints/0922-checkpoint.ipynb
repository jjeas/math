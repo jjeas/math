{
 "cells": [
  {
   "cell_type": "markdown",
   "id": "9f235698-b9b3-4f75-9586-fce39ecb31f0",
   "metadata": {},
   "source": [
    "## 내적(dot ptoduct)"
   ]
  },
  {
   "cell_type": "markdown",
   "id": "6e559e91-02ea-4e5f-824b-11e6b2d50bd6",
   "metadata": {},
   "source": [
    "<img src=\"images/0922/1.PNG\"/>"
   ]
  },
  {
   "cell_type": "markdown",
   "id": "cfb9ebcb-e0bc-483d-b5c0-db25e873900d",
   "metadata": {},
   "source": [
    "<img src=\"images/0922/2.jpg\"/>"
   ]
  },
  {
   "cell_type": "code",
   "execution_count": 6,
   "id": "2f4cb9a5-98d0-447e-9528-c23f6838501a",
   "metadata": {},
   "outputs": [
    {
     "data": {
      "text/plain": [
       "np.int64(5)"
      ]
     },
     "execution_count": 6,
     "metadata": {},
     "output_type": "execute_result"
    }
   ],
   "source": [
    "np.dot(a_vec,b_vec)"
   ]
  },
  {
   "cell_type": "markdown",
   "id": "e374793c-7569-47e0-950a-5df4d2fbd2c5",
   "metadata": {},
   "source": [
    "$ 180 : \\pi = 90 : x $"
   ]
  },
  {
   "cell_type": "code",
   "execution_count": null,
   "id": "53acab2f-d9d5-4a07-ab88-10b094f06295",
   "metadata": {},
   "outputs": [],
   "source": [
    "def rad_to_degree(x):\n",
    "    return "
   ]
  },
  {
   "cell_type": "code",
   "execution_count": 9,
   "id": "b9c77b09-a4e4-4ad5-a035-e22f3191b707",
   "metadata": {},
   "outputs": [
    {
     "data": {
      "text/plain": [
       "np.True_"
      ]
     },
     "execution_count": 9,
     "metadata": {},
     "output_type": "execute_result"
    }
   ],
   "source": [
    "np.cos(np.pi/4) - 1/np.sqrt(2) <0.001"
   ]
  },
  {
   "cell_type": "code",
   "execution_count": 5,
   "id": "f9239aef-6b69-40d3-ac28-df46dcd5c781",
   "metadata": {},
   "outputs": [
    {
     "data": {
      "text/plain": [
       "np.int64(5)"
      ]
     },
     "execution_count": 5,
     "metadata": {},
     "output_type": "execute_result"
    }
   ],
   "source": [
    "inner_product=0\n",
    "for (i,j) in zip(a_vec,b_vec):\n",
    "    inner_product+=i*j\n",
    "inner_product"
   ]
  },
  {
   "cell_type": "markdown",
   "id": "9b388f75-774b-446f-b16e-04e845321d30",
   "metadata": {},
   "source": [
    "<img src=\"images/0922/3.jpg\"/>"
   ]
  },
  {
   "cell_type": "code",
   "execution_count": 2,
   "id": "100c9a8f-8a23-4b77-bcc1-839104ec7445",
   "metadata": {},
   "outputs": [],
   "source": [
    "import numpy as np\n",
    "a_vec=np.array([3,1])\n",
    "b_vec=np.array([1,2])"
   ]
  },
  {
   "cell_type": "code",
   "execution_count": 18,
   "id": "abe403fc-7f5f-4b0c-a275-8081c85232a4",
   "metadata": {},
   "outputs": [
    {
     "data": {
      "text/plain": [
       "np.float64(3.1622776601683795)"
      ]
     },
     "execution_count": 18,
     "metadata": {},
     "output_type": "execute_result"
    }
   ],
   "source": [
    "np.linalg.norm(a_vec)"
   ]
  },
  {
   "cell_type": "code",
   "execution_count": 19,
   "id": "84486036-64c9-4975-8343-7125c23eacac",
   "metadata": {},
   "outputs": [
    {
     "data": {
      "text/plain": [
       "(np.float64(3.1622776601683795), np.float64(2.23606797749979))"
      ]
     },
     "execution_count": 19,
     "metadata": {},
     "output_type": "execute_result"
    }
   ],
   "source": [
    "a_vec_mag = np.linalg.norm(a_vec)\n",
    "b_vec_mag = np.linalg.norm(b_vec)\n",
    "a_vec_mag, b_vec_mag"
   ]
  },
  {
   "cell_type": "code",
   "execution_count": 21,
   "id": "97f848e5-20a7-420d-8d6c-b50f2dfa2cf9",
   "metadata": {},
   "outputs": [
    {
     "data": {
      "text/plain": [
       "np.float64(0.7071067811865475)"
      ]
     },
     "execution_count": 21,
     "metadata": {},
     "output_type": "execute_result"
    }
   ],
   "source": [
    "cos_theta=np.dot(a_vec,b_vec) / (a_vec_mag*b_vec_mag)\n",
    "cos_theta"
   ]
  },
  {
   "cell_type": "code",
   "execution_count": 24,
   "id": "63209c95-343e-4b4a-bddb-2f8134d88379",
   "metadata": {},
   "outputs": [
    {
     "data": {
      "text/plain": [
       "np.float64(45.00000000000001)"
      ]
     },
     "execution_count": 24,
     "metadata": {},
     "output_type": "execute_result"
    }
   ],
   "source": [
    "np.rad2deg(np.arccos(cos_theta))"
   ]
  },
  {
   "cell_type": "code",
   "execution_count": 11,
   "id": "f114fcea-ef44-4360-9a8e-a9e54ff83ee7",
   "metadata": {},
   "outputs": [
    {
     "data": {
      "text/plain": [
       "array([0.        , 0.52359878, 0.78539816, 1.04719755, 1.57079633])"
      ]
     },
     "execution_count": 11,
     "metadata": {},
     "output_type": "execute_result"
    }
   ],
   "source": [
    "np.deg2rad([0,30,45,60,90])"
   ]
  },
  {
   "cell_type": "code",
   "execution_count": 25,
   "id": "5747aaa8-b1eb-46c0-9d5a-2c91ca9fbd17",
   "metadata": {},
   "outputs": [],
   "source": [
    "a1_vec=np.array([50,2])\n",
    "b1_vec=np.array([-1,3])"
   ]
  },
  {
   "cell_type": "code",
   "execution_count": 27,
   "id": "836f01e0-5fe5-4b65-b112-a12311c2a0e2",
   "metadata": {},
   "outputs": [
    {
     "data": {
      "text/plain": [
       "(np.float64(50.039984012787215), np.float64(3.1622776601683795))"
      ]
     },
     "execution_count": 27,
     "metadata": {},
     "output_type": "execute_result"
    }
   ],
   "source": [
    "a1_vec_mag = np.linalg.norm(a1_vec)\n",
    "b1_vec_mag = np.linalg.norm(b1_vec)\n",
    "a1_vec_mag, b1_vec_mag"
   ]
  },
  {
   "cell_type": "code",
   "execution_count": 31,
   "id": "07022f25-a516-41f2-9f51-12a451804f64",
   "metadata": {},
   "outputs": [
    {
     "data": {
      "text/plain": [
       "np.float64(-0.27805807654105724)"
      ]
     },
     "execution_count": 31,
     "metadata": {},
     "output_type": "execute_result"
    }
   ],
   "source": [
    "cos_theta1 = np.dot(a1_vec,b1_vec) / (a1_vec_mag*b1_vec_mag)\n",
    "cos_theta1"
   ]
  },
  {
   "cell_type": "code",
   "execution_count": 32,
   "id": "7b6aeb7c-3d58-4a76-9791-85198764370b",
   "metadata": {},
   "outputs": [
    {
     "data": {
      "text/plain": [
       "np.float64(106.14433878028349)"
      ]
     },
     "execution_count": 32,
     "metadata": {},
     "output_type": "execute_result"
    }
   ],
   "source": [
    "np.rad2deg(np.arccos(cos_theta1))"
   ]
  },
  {
   "cell_type": "code",
   "execution_count": 37,
   "id": "f2bd0b1c-75df-4f15-8c03-11b309b65746",
   "metadata": {},
   "outputs": [],
   "source": [
    "def rad_to_deg(rad):\n",
    "    return rad *180.0/np.pi"
   ]
  },
  {
   "cell_type": "code",
   "execution_count": 39,
   "id": "96a13e90-4ac1-4759-8e28-de464c146569",
   "metadata": {},
   "outputs": [],
   "source": [
    "def deg_to_rad(deg):\n",
    "    return deg *np.pi/180.0"
   ]
  },
  {
   "cell_type": "code",
   "execution_count": 42,
   "id": "18c99772-6f42-449c-be0f-3ac4dcdb7243",
   "metadata": {},
   "outputs": [
    {
     "data": {
      "text/plain": [
       "[29.999999999999996, 45.0, 59.99999999999999, 90.0]"
      ]
     },
     "execution_count": 42,
     "metadata": {},
     "output_type": "execute_result"
    }
   ],
   "source": [
    "[rad_to_deg(i) for i in [np.pi/6,  np.pi/4,np.pi/3, np.pi/2]]"
   ]
  },
  {
   "cell_type": "code",
   "execution_count": 34,
   "id": "f1fc78ad-1e66-4f01-b3c1-2c94b4594490",
   "metadata": {},
   "outputs": [],
   "source": [
    "a_vec=np.array([2,3,1])\n",
    "b_vec=np.array([1,-1,2])"
   ]
  },
  {
   "cell_type": "code",
   "execution_count": 36,
   "id": "b0a1f108-5d00-4c90-a99f-0c43aaa233cd",
   "metadata": {},
   "outputs": [
    {
     "data": {
      "text/plain": [
       "(np.float64(3.7416573867739413), np.float64(2.449489742783178))"
      ]
     },
     "execution_count": 36,
     "metadata": {},
     "output_type": "execute_result"
    }
   ],
   "source": [
    "a1_vec_mag = np.linalg.norm(a_vec)\n",
    "b1_vec_mag = np.linalg.norm(b_vec)\n",
    "a1_vec_mag, b1_vec_mag"
   ]
  },
  {
   "cell_type": "code",
   "execution_count": 53,
   "id": "f1b3394e-d5d3-4e80-8837-7ae5a9bdc1d3",
   "metadata": {},
   "outputs": [
    {
     "data": {
      "text/plain": [
       "np.int64(1)"
      ]
     },
     "execution_count": 53,
     "metadata": {},
     "output_type": "execute_result"
    }
   ],
   "source": [
    "dot = np.dot(a_vec,b_vec)\n",
    "dot"
   ]
  },
  {
   "cell_type": "code",
   "execution_count": 68,
   "id": "d64051cf-bb91-4c94-a99f-8e5d4d376505",
   "metadata": {},
   "outputs": [
    {
     "data": {
      "text/plain": [
       "np.float64(49.1066053508691)"
      ]
     },
     "execution_count": 68,
     "metadata": {},
     "output_type": "execute_result"
    }
   ],
   "source": [
    "rad_to_deg(np.arccos(dot/a1_vec_mag*b1_vec_mag))"
   ]
  },
  {
   "cell_type": "code",
   "execution_count": 58,
   "id": "1cbbb863-0b8a-455d-8789-3da12036e60f",
   "metadata": {},
   "outputs": [],
   "source": [
    "q3_1 = np.array([-1,100])\n",
    "q3_2 = np.array([200,2])"
   ]
  },
  {
   "cell_type": "code",
   "execution_count": 61,
   "id": "a1e37fb2-6925-4b4b-b90b-bbaef52021c8",
   "metadata": {},
   "outputs": [
    {
     "data": {
      "text/plain": [
       "np.int64(0)"
      ]
     },
     "execution_count": 61,
     "metadata": {},
     "output_type": "execute_result"
    }
   ],
   "source": [
    "q3_dot=np.dot(q3_1,q3_2)\n",
    "q3_dot"
   ]
  },
  {
   "cell_type": "code",
   "execution_count": 62,
   "id": "ee2da84b-8fc1-4036-aa1e-ef569dd3825f",
   "metadata": {},
   "outputs": [],
   "source": [
    "q3_1_mag = np.linalg.norm(q3_1)\n",
    "q3_2_mag = np.linalg.norm(q3_2)"
   ]
  },
  {
   "cell_type": "code",
   "execution_count": 65,
   "id": "355689b9-f40a-4db0-a17e-85a39d9b11b2",
   "metadata": {},
   "outputs": [
    {
     "data": {
      "text/plain": [
       "np.float64(90.0)"
      ]
     },
     "execution_count": 65,
     "metadata": {},
     "output_type": "execute_result"
    }
   ],
   "source": [
    "rad_to_deg(np.arccos(q3_dot/q3_1_mag*q3_2_mag))"
   ]
  },
  {
   "cell_type": "code",
   "execution_count": 96,
   "id": "4458a319-e3b9-49fc-a43a-12c445ca99ce",
   "metadata": {},
   "outputs": [],
   "source": [
    "class A:\n",
    "    def __init__(self):\n",
    "        print(\"사랑\")\n",
    "    def add(self,a,b):\n",
    "        return a+b\n",
    "    def minus(self,a,b):\n",
    "        return a-b\n",
    "    def mul(self,a,b):\n",
    "        return a*b\n",
    "    def div(self,a,b):\n",
    "        return a/b"
   ]
  },
  {
   "cell_type": "code",
   "execution_count": 98,
   "id": "c56be49a-f116-4014-9d8c-e4ce7a60d5f4",
   "metadata": {},
   "outputs": [
    {
     "name": "stdout",
     "output_type": "stream",
     "text": [
      "사랑\n"
     ]
    },
    {
     "data": {
      "text/plain": [
       "[7, -2, 40, 1.25]"
      ]
     },
     "execution_count": 98,
     "metadata": {},
     "output_type": "execute_result"
    }
   ],
   "source": [
    "a= A()\n",
    "[a.add(3,4), a.minus(3,5) , a.mul(5,8), a.div(5,4)]"
   ]
  },
  {
   "cell_type": "code",
   "execution_count": 99,
   "id": "abb1d4ea-8f1d-43a7-b572-8c1531b8a043",
   "metadata": {},
   "outputs": [],
   "source": [
    "sdata = [[1,2],[3,4]]"
   ]
  },
  {
   "cell_type": "code",
   "execution_count": 100,
   "id": "c6c6e6ef-7e5a-42f8-a831-6532e14bbefb",
   "metadata": {},
   "outputs": [
    {
     "data": {
      "text/plain": [
       "[[3, -1, 2, 0.5], [7, -1, 12, 0.75]]"
      ]
     },
     "execution_count": 100,
     "metadata": {},
     "output_type": "execute_result"
    }
   ],
   "source": [
    "[[a.add(i,j), a.minus(i,j),a.mul(i,j),a.div(i,j)] for i,j in sdata]"
   ]
  }
 ],
 "metadata": {
  "kernelspec": {
   "display_name": "Python [conda env:base] *",
   "language": "python",
   "name": "conda-base-py"
  },
  "language_info": {
   "codemirror_mode": {
    "name": "ipython",
    "version": 3
   },
   "file_extension": ".py",
   "mimetype": "text/x-python",
   "name": "python",
   "nbconvert_exporter": "python",
   "pygments_lexer": "ipython3",
   "version": "3.13.5"
  }
 },
 "nbformat": 4,
 "nbformat_minor": 5
}
